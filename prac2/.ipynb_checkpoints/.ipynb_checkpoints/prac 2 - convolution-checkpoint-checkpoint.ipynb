{
 "cells": [
  {
   "cell_type": "code",
   "execution_count": 5,
   "metadata": {
    "collapsed": false
   },
   "outputs": [],
   "source": [
    "import toolbox\n",
    "from IPython.display import HTML\n",
    "import matplotlib.pyplot as pylab"
   ]
  },
  {
   "cell_type": "markdown",
   "metadata": {},
   "source": [
    "#convolution of a wavelet\n",
    "\n",
    "Remember that the convolutional model states that\n",
    "\n",
    "$$Y(t) = S(t) * E(t) * R(t) + N(t)$$\n",
    "\n",
    "where\n",
    "* Y(t) = recorded signal\n",
    "* E(t) = earth response\n",
    "* S(t) = source wavelet\n",
    "* R(t) = reciever response\n",
    "* N(t) = some noise\n",
    "\n",
    "So what actually is convolution?"
   ]
  },
  {
   "cell_type": "code",
   "execution_count": 6,
   "metadata": {
    "collapsed": false
   },
   "outputs": [
    {
     "data": {
      "text/html": [
       "<iframe src=http://en.wikipedia.org/wiki/Convolution#Definition width=1000 height=240</iframe>"
      ],
      "text/plain": [
       "<IPython.core.display.HTML object>"
      ]
     },
     "execution_count": 6,
     "metadata": {},
     "output_type": "execute_result"
    }
   ],
   "source": [
    "HTML('<iframe src=http://en.wikipedia.org/wiki/Convolution#Definition width=1000 height=240</iframe>')"
   ]
  },
  {
   "cell_type": "code",
   "execution_count": 3,
   "metadata": {
    "collapsed": false
   },
   "outputs": [
    {
     "name": "stdout",
     "output_type": "stream",
     "text": [
      "Populating the interactive namespace from numpy and matplotlib\n"
     ]
    }
   ],
   "source": [
    "%pylab tk\n",
    "x = np.linspace(start=0, stop=1, num=500)\n",
    "y1 = np.zeros(500)\n",
    "y1[200:300] = 1.0\n",
    "y2 = np.zeros(500)\n",
    "y2[:50] = 0.5\n",
    "\n",
    "y3 = np.zeros(500)\n",
    "y3[225:275] = 0.5\n",
    "y4 = np.convolve(y1, y3, mode='same')\n",
    "\n",
    "roll = 0\n",
    "loc = 25\n",
    "\n",
    "def key_event(e):\n",
    "    global roll, y2, loc\n",
    "    if e.key == \"right\":\n",
    "        roll = 10\n",
    "    elif e.key == \"left\":\n",
    "        roll= -10\n",
    "    else:\n",
    "        return\n",
    "    \n",
    "    loc += roll\n",
    "    \n",
    "    y2 = np.roll(y2, roll)\n",
    "    \n",
    "    \n",
    "    \n",
    "    ax.cla()\n",
    "    ax.plot(x, y2, 'r')\n",
    "    ax.plot(x, y1, 'b')\n",
    "    ax.fill_between(x, 0, y2, where=(y1 != 0) & (y2 != 0))\n",
    "    ax.set_ylim(-0.5, 2)\n",
    "    ax1.cla()\n",
    "    ax1.plot(x[:loc], y4[:loc])\n",
    "    ax1.set_xlim(0, 1)\n",
    "    ax1.set_ylim(-1, 50)\n",
    "    fig.canvas.draw()\n",
    "\n",
    "fig = plt.figure()\n",
    "fig.canvas.mpl_connect('key_press_event', key_event)\n",
    "ax = fig.add_subplot(211)\n",
    "ax.plot(x, y1, 'b')\n",
    "ax.plot(x, y2, 'r')\n",
    "ax.set_ylim(-0.5, 2)\n",
    "ax1 = fig.add_subplot(212)\n",
    "plt.show()\n",
    "\n"
   ]
  },
  {
   "cell_type": "code",
   "execution_count": 4,
   "metadata": {
    "collapsed": false
   },
   "outputs": [
    {
     "name": "stdout",
     "output_type": "stream",
     "text": [
      "Populating the interactive namespace from numpy and matplotlib\n"
     ]
    },
    {
     "name": "stderr",
     "output_type": "stream",
     "text": [
      "WARNING: pylab import has clobbered these variables: ['roll']\n",
      "`%matplotlib` prevents importing * from pylab and numpy\n"
     ]
    },
    {
     "ename": "NameError",
     "evalue": "name 'toolbox' is not defined",
     "output_type": "error",
     "traceback": [
      "\u001b[1;31m---------------------------------------------------------------------------\u001b[0m",
      "\u001b[1;31mNameError\u001b[0m                                 Traceback (most recent call last)",
      "\u001b[1;32m<ipython-input-4-b8441c195e18>\u001b[0m in \u001b[0;36m<module>\u001b[1;34m()\u001b[0m\n\u001b[0;32m      2\u001b[0m \u001b[1;33m\u001b[0m\u001b[0m\n\u001b[0;32m      3\u001b[0m \u001b[0mpylab\u001b[0m\u001b[1;33m.\u001b[0m\u001b[0mrcParams\u001b[0m\u001b[1;33m[\u001b[0m\u001b[1;34m'figure.figsize'\u001b[0m\u001b[1;33m]\u001b[0m \u001b[1;33m=\u001b[0m \u001b[1;33m(\u001b[0m\u001b[1;36m10.0\u001b[0m\u001b[1;33m,\u001b[0m \u001b[1;36m8.0\u001b[0m\u001b[1;33m)\u001b[0m\u001b[1;33m\u001b[0m\u001b[0m\n\u001b[1;32m----> 4\u001b[1;33m \u001b[0mwavelet\u001b[0m \u001b[1;33m=\u001b[0m \u001b[0mtoolbox\u001b[0m\u001b[1;33m.\u001b[0m\u001b[0mricker\u001b[0m\u001b[1;33m(\u001b[0m\u001b[1;36m60\u001b[0m\u001b[1;33m)\u001b[0m\u001b[1;33m\u001b[0m\u001b[0m\n\u001b[0m\u001b[0;32m      5\u001b[0m \u001b[0mplot\u001b[0m\u001b[1;33m(\u001b[0m\u001b[0mwavelet\u001b[0m\u001b[1;33m)\u001b[0m\u001b[1;33m\u001b[0m\u001b[0m\n\u001b[0;32m      6\u001b[0m \u001b[1;33m\u001b[0m\u001b[0m\n",
      "\u001b[1;31mNameError\u001b[0m: name 'toolbox' is not defined"
     ]
    }
   ],
   "source": [
    "%pylab inline\n",
    "\n",
    "pylab.rcParams['figure.figsize'] = (10.0, 8.0)\n",
    "wavelet = toolbox.ricker(60)\n",
    "plot(wavelet)\n",
    "\n"
   ]
  },
  {
   "cell_type": "code",
   "execution_count": null,
   "metadata": {
    "collapsed": false
   },
   "outputs": [],
   "source": [
    "x = np.linspace(start=0, stop=1, num=1000)\n",
    "y1 = np.zeros(1000)\n",
    "y1[200] = -0.5\n",
    "y1[250] = 0.3\n",
    "y1[400] = 0.1\n",
    "noise = np.random.normal(0.0, 1e-2, size=(1000))\n",
    "y1 += noise\n",
    "y2 = np.zeros(1000)\n",
    "y2[:wavelet.size] = wavelet\n",
    "\n",
    "y3 = y2.copy()\n",
    "y3 = np.roll(y3, 500- wavelet.size/2 -5)\n",
    "y4 = np.convolve(y1, y3, mode='same')\n",
    "\n",
    "roll = 0\n",
    "loc = 25\n",
    "\n",
    "def key_event(e):\n",
    "    global roll, y2, loc\n",
    "    if e.key == \"right\":\n",
    "        roll = 10\n",
    "    elif e.key == \"left\":\n",
    "        roll= -10\n",
    "    else:\n",
    "        return\n",
    "    \n",
    "    loc += roll\n",
    "    \n",
    "    y2 = np.roll(y2, roll)\n",
    "    \n",
    "    \n",
    "    \n",
    "    ax.cla()\n",
    "    ax.plot(x, y2, 'r')\n",
    "    ax.plot(x, y1, 'b')\n",
    "    ax.fill_between(x, 0, y1, where=(y1 != 0) & (y2 != 0))\n",
    "    ax.set_ylim(-1, 1)\n",
    "    ax1.cla()\n",
    "    ax1.plot(x[:loc], y4[:loc])\n",
    "    ax1.set_xlim(0, 1)\n",
    "    ax1.set_ylim(-1, 1)\n",
    "    fig.canvas.draw()\n",
    "\n",
    "fig = plt.figure()\n",
    "fig.canvas.mpl_connect('key_press_event', key_event)\n",
    "ax = fig.add_subplot(211)\n",
    "ax.plot(x, y1, 'b')\n",
    "ax.plot(x, y2, 'r')\n",
    "ax.set_ylim(-1, 1)\n",
    "ax1 = fig.add_subplot(212)\n",
    "plt.show()\n"
   ]
  },
  {
   "cell_type": "code",
   "execution_count": null,
   "metadata": {
    "collapsed": false
   },
   "outputs": [],
   "source": []
  }
 ],
 "metadata": {
  "kernelspec": {
   "display_name": "Python 2",
   "language": "python",
   "name": "python2"
  },
  "language_info": {
   "codemirror_mode": {
    "name": "ipython",
    "version": 2
   },
   "file_extension": ".py",
   "mimetype": "text/x-python",
   "name": "python",
   "nbconvert_exporter": "python",
   "pygments_lexer": "ipython2",
   "version": "2.7.8"
  }
 },
 "nbformat": 4,
 "nbformat_minor": 0
}
