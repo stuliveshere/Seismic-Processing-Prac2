{
 "metadata": {
  "name": "",
  "signature": "sha256:b6b0dfbf7e0794103ff2aab45b02cff0bd5ee838c2b93b9b16514ab01aba135d"
 },
 "nbformat": 3,
 "nbformat_minor": 0,
 "worksheets": []
}